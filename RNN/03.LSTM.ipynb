{
 "cells": [
  {
   "cell_type": "code",
   "execution_count": 3,
   "metadata": {},
   "outputs": [],
   "source": [
    "import pandas as pd\n",
    "from string import punctuation\n",
    "from tensorflow.keras.preprocessing.text import Tokenizer\n",
    "from tensorflow.keras.preprocessing.sequence import pad_sequences\n",
    "import numpy as np\n",
    "from tensorflow.keras.utils import to_categorical"
   ]
  },
  {
   "cell_type": "code",
   "execution_count": 9,
   "metadata": {},
   "outputs": [
    {
     "name": "stdout",
     "output_type": "stream",
     "text": [
      "열의 개수 :  15\n",
      "Index(['articleID', 'articleWordCount', 'byline', 'documentType', 'headline',\n",
      "       'keywords', 'multimedia', 'newDesk', 'printPage', 'pubDate',\n",
      "       'sectionName', 'snippet', 'source', 'typeOfMaterial', 'webURL'],\n",
      "      dtype='object')\n"
     ]
    }
   ],
   "source": [
    "df = pd.read_csv('archive/ArticlesApril2018.csv')\n",
    "\n",
    "print('열의 개수 : ', len(df.columns))\n",
    "print(df.columns)"
   ]
  },
  {
   "cell_type": "code",
   "execution_count": 11,
   "metadata": {},
   "outputs": [
    {
     "data": {
      "text/plain": [
       "False"
      ]
     },
     "execution_count": 11,
     "metadata": {},
     "output_type": "execute_result"
    }
   ],
   "source": [
    "df['headline'].isnull().values.any()"
   ]
  },
  {
   "cell_type": "code",
   "execution_count": 15,
   "metadata": {},
   "outputs": [
    {
     "data": {
      "text/plain": [
       "['Former N.F.L. Cheerleaders’ Settlement Offer: $1 and a Meeting With Goodell',\n",
       " 'E.P.A. to Unveil a New Rule. Its Effect: Less Science in Policymaking.',\n",
       " 'The New Noma, Explained',\n",
       " 'Unknown',\n",
       " 'Unknown']"
      ]
     },
     "execution_count": 15,
     "metadata": {},
     "output_type": "execute_result"
    }
   ],
   "source": [
    "headline = []\n",
    "headline.extend(list(df.headline.values))\n",
    "headline[:5]"
   ]
  },
  {
   "cell_type": "code",
   "execution_count": 19,
   "metadata": {},
   "outputs": [
    {
     "name": "stdout",
     "output_type": "stream",
     "text": [
      "총 샘플의 개수 : 1214\n",
      "\n",
      "노이즈 제거 후 총 샘플의 개수 \n",
      ": 1214\n"
     ]
    },
    {
     "data": {
      "text/plain": [
       "['Former N.F.L. Cheerleaders’ Settlement Offer: $1 and a Meeting With Goodell',\n",
       " 'E.P.A. to Unveil a New Rule. Its Effect: Less Science in Policymaking.',\n",
       " 'The New Noma, Explained',\n",
       " 'How a Bag of Texas Dirt  Became a Times Tradition',\n",
       " 'Is School a Place for Self-Expression?']"
      ]
     },
     "execution_count": 19,
     "metadata": {},
     "output_type": "execute_result"
    }
   ],
   "source": [
    "print('총 샘플의 개수 : {}\\n'.format(len(headline)))\n",
    "\n",
    "headline = [n for n in headline if n != \"Unknown\"]\n",
    "print('노이즈 제거 후 총 샘플의 개수 \\n: {}'.format(len(headline)))\n",
    "headline[:5]"
   ]
  },
  {
   "cell_type": "code",
   "execution_count": 20,
   "metadata": {},
   "outputs": [
    {
     "data": {
      "text/plain": [
       "['former nfl cheerleaders settlement offer 1 and a meeting with goodell',\n",
       " 'epa to unveil a new rule its effect less science in policymaking',\n",
       " 'the new noma explained',\n",
       " 'how a bag of texas dirt  became a times tradition',\n",
       " 'is school a place for selfexpression']"
      ]
     },
     "execution_count": 20,
     "metadata": {},
     "output_type": "execute_result"
    }
   ],
   "source": [
    "def repreprocessing(s) :\n",
    "    s = s.encode(\"utf8\").decode(\"ascii\",\"ignore\")\n",
    "    return ''.join(c for c in s if c not in punctuation).lower()\n",
    "\n",
    "text = [repreprocessing(x) for x in headline]\n",
    "text[:5]"
   ]
  },
  {
   "cell_type": "code",
   "execution_count": 21,
   "metadata": {},
   "outputs": [
    {
     "name": "stdout",
     "output_type": "stream",
     "text": [
      "단어 집합의 크기 : 3494\n"
     ]
    }
   ],
   "source": [
    "t = Tokenizer()\n",
    "t.fit_on_texts(text)\n",
    "vocab_size = len(t.word_index)+1\n",
    "print('단어 집합의 크기 : %d'% vocab_size)"
   ]
  },
  {
   "cell_type": "code",
   "execution_count": 24,
   "metadata": {},
   "outputs": [
    {
     "data": {
      "text/plain": [
       "[[99, 269],\n",
       " [99, 269, 371],\n",
       " [99, 269, 371, 1115],\n",
       " [99, 269, 371, 1115, 582],\n",
       " [99, 269, 371, 1115, 582, 52],\n",
       " [99, 269, 371, 1115, 582, 52, 7],\n",
       " [99, 269, 371, 1115, 582, 52, 7, 2],\n",
       " [99, 269, 371, 1115, 582, 52, 7, 2, 372],\n",
       " [99, 269, 371, 1115, 582, 52, 7, 2, 372, 10],\n",
       " [99, 269, 371, 1115, 582, 52, 7, 2, 372, 10, 1116],\n",
       " [100, 3]]"
      ]
     },
     "execution_count": 24,
     "metadata": {},
     "output_type": "execute_result"
    }
   ],
   "source": [
    "sequences = list()\n",
    "\n",
    "for line in text :\n",
    "    encoded = t.texts_to_sequences([line])[0]\n",
    "    for i in range(1,len(encoded)) :\n",
    "        sequence = encoded[:i+1]\n",
    "        sequences.append(sequence)\n",
    "sequences[:11]"
   ]
  },
  {
   "cell_type": "code",
   "execution_count": 25,
   "metadata": {},
   "outputs": [
    {
     "name": "stdout",
     "output_type": "stream",
     "text": [
      "빈도수 상위 582번 단어 : offer\n"
     ]
    }
   ],
   "source": [
    "index_to_word = {}\n",
    "\n",
    "for key, value in t.word_index.items() :\n",
    "    index_to_word[value] = key\n",
    "    \n",
    "print('빈도수 상위 582번 단어 : {}'.format(index_to_word[582]))"
   ]
  },
  {
   "cell_type": "code",
   "execution_count": 26,
   "metadata": {},
   "outputs": [
    {
     "name": "stdout",
     "output_type": "stream",
     "text": [
      "샘플 최대의 길이 : 24 \n"
     ]
    }
   ],
   "source": [
    "max_len = max(len(l) for l in sequences)\n",
    "print(\"샘플 최대의 길이 : {} \".format(max_len))"
   ]
  },
  {
   "cell_type": "code",
   "execution_count": 27,
   "metadata": {},
   "outputs": [
    {
     "name": "stdout",
     "output_type": "stream",
     "text": [
      "[[   0    0    0    0    0    0    0    0    0    0    0    0    0    0\n",
      "     0    0    0    0    0    0    0    0   99  269]\n",
      " [   0    0    0    0    0    0    0    0    0    0    0    0    0    0\n",
      "     0    0    0    0    0    0    0   99  269  371]\n",
      " [   0    0    0    0    0    0    0    0    0    0    0    0    0    0\n",
      "     0    0    0    0    0    0   99  269  371 1115]]\n"
     ]
    }
   ],
   "source": [
    "sequences = pad_sequences(sequences, maxlen= max_len, padding='pre')\n",
    "print(sequences[:3])"
   ]
  },
  {
   "cell_type": "code",
   "execution_count": 29,
   "metadata": {},
   "outputs": [
    {
     "name": "stdout",
     "output_type": "stream",
     "text": [
      "[[  0   0   0   0   0   0   0   0   0   0   0   0   0   0   0   0   0   0\n",
      "    0   0   0   0  99]\n",
      " [  0   0   0   0   0   0   0   0   0   0   0   0   0   0   0   0   0   0\n",
      "    0   0   0  99 269]\n",
      " [  0   0   0   0   0   0   0   0   0   0   0   0   0   0   0   0   0   0\n",
      "    0   0  99 269 371]]\n",
      "[ 269  371 1115]\n"
     ]
    }
   ],
   "source": [
    "sequences = np.array(sequences)\n",
    "X = sequences[:,:-1]\n",
    "y= sequences[:,-1]\n",
    "\n",
    "print(X[:3])\n",
    "print(y[:3])"
   ]
  },
  {
   "cell_type": "code",
   "execution_count": 30,
   "metadata": {},
   "outputs": [],
   "source": [
    "y = to_categorical(y, num_classes= vocab_size)"
   ]
  },
  {
   "cell_type": "markdown",
   "metadata": {},
   "source": [
    "# LSTM 모델 설계"
   ]
  },
  {
   "cell_type": "code",
   "execution_count": 37,
   "metadata": {
    "scrolled": false
   },
   "outputs": [
    {
     "name": "stdout",
     "output_type": "stream",
     "text": [
      "Epoch 1/200\n",
      "244/244 - 3s - loss: 7.6356 - accuracy: 0.0301\n",
      "Epoch 2/200\n",
      "244/244 - 3s - loss: 7.1229 - accuracy: 0.0310\n",
      "Epoch 3/200\n",
      "244/244 - 4s - loss: 6.9837 - accuracy: 0.0309\n",
      "Epoch 4/200\n",
      "244/244 - 4s - loss: 6.8640 - accuracy: 0.0408\n",
      "Epoch 5/200\n",
      "244/244 - 4s - loss: 6.7247 - accuracy: 0.0425\n",
      "Epoch 6/200\n",
      "244/244 - 4s - loss: 6.5542 - accuracy: 0.0461\n",
      "Epoch 7/200\n",
      "244/244 - 4s - loss: 6.3571 - accuracy: 0.0514\n",
      "Epoch 8/200\n",
      "244/244 - 4s - loss: 6.1539 - accuracy: 0.0555\n",
      "Epoch 9/200\n",
      "244/244 - 4s - loss: 5.9488 - accuracy: 0.0598\n",
      "Epoch 10/200\n",
      "244/244 - 4s - loss: 5.7535 - accuracy: 0.0663\n",
      "Epoch 11/200\n",
      "244/244 - 4s - loss: 5.5695 - accuracy: 0.0689\n",
      "Epoch 12/200\n",
      "244/244 - 4s - loss: 5.3922 - accuracy: 0.0763\n",
      "Epoch 13/200\n",
      "244/244 - 4s - loss: 5.2293 - accuracy: 0.0816\n",
      "Epoch 14/200\n",
      "244/244 - 4s - loss: 5.0736 - accuracy: 0.0879\n",
      "Epoch 15/200\n",
      "244/244 - 4s - loss: 4.9219 - accuracy: 0.0971\n",
      "Epoch 16/200\n",
      "244/244 - 4s - loss: 4.7796 - accuracy: 0.1062\n",
      "Epoch 17/200\n",
      "244/244 - 4s - loss: 4.6402 - accuracy: 0.1253\n",
      "Epoch 18/200\n",
      "244/244 - 4s - loss: 4.5098 - accuracy: 0.1347\n",
      "Epoch 19/200\n",
      "244/244 - 4s - loss: 4.3851 - accuracy: 0.1544\n",
      "Epoch 20/200\n",
      "244/244 - 4s - loss: 4.2612 - accuracy: 0.1716\n",
      "Epoch 21/200\n",
      "244/244 - 4s - loss: 4.1434 - accuracy: 0.1893\n",
      "Epoch 22/200\n",
      "244/244 - 4s - loss: 4.0280 - accuracy: 0.2068\n",
      "Epoch 23/200\n",
      "244/244 - 4s - loss: 3.9167 - accuracy: 0.2250\n",
      "Epoch 24/200\n",
      "244/244 - 4s - loss: 3.8093 - accuracy: 0.2411\n",
      "Epoch 25/200\n",
      "244/244 - 4s - loss: 3.7070 - accuracy: 0.2585\n",
      "Epoch 26/200\n",
      "244/244 - 4s - loss: 3.6057 - accuracy: 0.2771\n",
      "Epoch 27/200\n",
      "244/244 - 4s - loss: 3.5135 - accuracy: 0.2936\n",
      "Epoch 28/200\n",
      "244/244 - 4s - loss: 3.4185 - accuracy: 0.3104\n",
      "Epoch 29/200\n",
      "244/244 - 4s - loss: 3.3290 - accuracy: 0.3272\n",
      "Epoch 30/200\n",
      "244/244 - 4s - loss: 3.2429 - accuracy: 0.3426\n",
      "Epoch 31/200\n",
      "244/244 - 4s - loss: 3.1622 - accuracy: 0.3573\n",
      "Epoch 32/200\n",
      "244/244 - 4s - loss: 3.0811 - accuracy: 0.3728\n",
      "Epoch 33/200\n",
      "244/244 - 4s - loss: 3.0044 - accuracy: 0.3854\n",
      "Epoch 34/200\n",
      "244/244 - 4s - loss: 2.9293 - accuracy: 0.4005\n",
      "Epoch 35/200\n",
      "244/244 - 4s - loss: 2.8577 - accuracy: 0.4136\n",
      "Epoch 36/200\n",
      "244/244 - 4s - loss: 2.7887 - accuracy: 0.4303\n",
      "Epoch 37/200\n",
      "244/244 - 4s - loss: 2.7260 - accuracy: 0.4366\n",
      "Epoch 38/200\n",
      "244/244 - 4s - loss: 2.6579 - accuracy: 0.4523\n",
      "Epoch 39/200\n",
      "244/244 - 4s - loss: 2.5958 - accuracy: 0.4629\n",
      "Epoch 40/200\n",
      "244/244 - 4s - loss: 2.5369 - accuracy: 0.4705\n",
      "Epoch 41/200\n",
      "244/244 - 4s - loss: 2.4777 - accuracy: 0.4896\n",
      "Epoch 42/200\n",
      "244/244 - 4s - loss: 2.4195 - accuracy: 0.4965\n",
      "Epoch 43/200\n",
      "244/244 - 4s - loss: 2.3655 - accuracy: 0.5088\n",
      "Epoch 44/200\n",
      "244/244 - 4s - loss: 2.3135 - accuracy: 0.5248\n",
      "Epoch 45/200\n",
      "244/244 - 4s - loss: 2.2599 - accuracy: 0.5353\n",
      "Epoch 46/200\n",
      "244/244 - 4s - loss: 2.2083 - accuracy: 0.5454\n",
      "Epoch 47/200\n",
      "244/244 - 4s - loss: 2.1591 - accuracy: 0.5516\n",
      "Epoch 48/200\n",
      "244/244 - 4s - loss: 2.1103 - accuracy: 0.5663\n",
      "Epoch 49/200\n",
      "244/244 - 4s - loss: 2.0634 - accuracy: 0.5752\n",
      "Epoch 50/200\n",
      "244/244 - 4s - loss: 2.0169 - accuracy: 0.5873\n",
      "Epoch 51/200\n",
      "244/244 - 4s - loss: 1.9714 - accuracy: 0.5991\n",
      "Epoch 52/200\n",
      "244/244 - 4s - loss: 1.9262 - accuracy: 0.6058\n",
      "Epoch 53/200\n",
      "244/244 - 4s - loss: 1.8827 - accuracy: 0.6198\n",
      "Epoch 54/200\n",
      "244/244 - 4s - loss: 1.8402 - accuracy: 0.6236\n",
      "Epoch 55/200\n",
      "244/244 - 4s - loss: 1.8006 - accuracy: 0.6344\n",
      "Epoch 56/200\n",
      "244/244 - 4s - loss: 1.7580 - accuracy: 0.6437\n",
      "Epoch 57/200\n",
      "244/244 - 4s - loss: 1.7174 - accuracy: 0.6536\n",
      "Epoch 58/200\n",
      "244/244 - 4s - loss: 1.6795 - accuracy: 0.6635\n",
      "Epoch 59/200\n",
      "244/244 - 4s - loss: 1.6410 - accuracy: 0.6688\n",
      "Epoch 60/200\n",
      "244/244 - 4s - loss: 1.6069 - accuracy: 0.6746\n",
      "Epoch 61/200\n",
      "244/244 - 4s - loss: 1.5715 - accuracy: 0.6882\n",
      "Epoch 62/200\n",
      "244/244 - 4s - loss: 1.5345 - accuracy: 0.6913\n",
      "Epoch 63/200\n",
      "244/244 - 4s - loss: 1.4988 - accuracy: 0.7000\n",
      "Epoch 64/200\n",
      "244/244 - 4s - loss: 1.4623 - accuracy: 0.7093\n",
      "Epoch 65/200\n",
      "244/244 - 4s - loss: 1.4297 - accuracy: 0.7118\n",
      "Epoch 66/200\n",
      "244/244 - 4s - loss: 1.3983 - accuracy: 0.7233\n",
      "Epoch 67/200\n",
      "244/244 - 4s - loss: 1.3623 - accuracy: 0.7281\n",
      "Epoch 68/200\n",
      "244/244 - 4s - loss: 1.3323 - accuracy: 0.7332\n",
      "Epoch 69/200\n",
      "244/244 - 4s - loss: 1.2989 - accuracy: 0.7416\n",
      "Epoch 70/200\n",
      "244/244 - 4s - loss: 1.2707 - accuracy: 0.7470\n",
      "Epoch 71/200\n",
      "244/244 - 4s - loss: 1.2400 - accuracy: 0.7525\n",
      "Epoch 72/200\n",
      "244/244 - 4s - loss: 1.2122 - accuracy: 0.7598\n",
      "Epoch 73/200\n",
      "244/244 - 4s - loss: 1.1829 - accuracy: 0.7605\n",
      "Epoch 74/200\n",
      "244/244 - 4s - loss: 1.1573 - accuracy: 0.7709\n",
      "Epoch 75/200\n",
      "244/244 - 4s - loss: 1.1287 - accuracy: 0.7751\n",
      "Epoch 76/200\n",
      "244/244 - 4s - loss: 1.1015 - accuracy: 0.7800\n",
      "Epoch 77/200\n",
      "244/244 - 4s - loss: 1.0751 - accuracy: 0.7865\n",
      "Epoch 78/200\n",
      "244/244 - 4s - loss: 1.0504 - accuracy: 0.7902\n",
      "Epoch 79/200\n",
      "244/244 - 4s - loss: 1.0269 - accuracy: 0.7921\n",
      "Epoch 80/200\n",
      "244/244 - 4s - loss: 1.0003 - accuracy: 0.8008\n",
      "Epoch 81/200\n",
      "244/244 - 4s - loss: 0.9789 - accuracy: 0.8046\n",
      "Epoch 82/200\n",
      "244/244 - 4s - loss: 0.9573 - accuracy: 0.8099\n",
      "Epoch 83/200\n",
      "244/244 - 4s - loss: 0.9369 - accuracy: 0.8112\n",
      "Epoch 84/200\n",
      "244/244 - 4s - loss: 0.9097 - accuracy: 0.8196\n",
      "Epoch 85/200\n",
      "244/244 - 4s - loss: 0.8884 - accuracy: 0.8229\n",
      "Epoch 86/200\n",
      "244/244 - 4s - loss: 0.8676 - accuracy: 0.8278\n",
      "Epoch 87/200\n",
      "244/244 - 4s - loss: 0.8509 - accuracy: 0.8306\n",
      "Epoch 88/200\n",
      "244/244 - 4s - loss: 0.8347 - accuracy: 0.8354\n",
      "Epoch 89/200\n",
      "244/244 - 4s - loss: 0.8136 - accuracy: 0.8387\n",
      "Epoch 90/200\n",
      "244/244 - 4s - loss: 0.7921 - accuracy: 0.8454\n",
      "Epoch 91/200\n",
      "244/244 - 4s - loss: 0.7724 - accuracy: 0.8475\n",
      "Epoch 92/200\n",
      "244/244 - 4s - loss: 0.7546 - accuracy: 0.8484\n",
      "Epoch 93/200\n",
      "244/244 - 4s - loss: 0.7407 - accuracy: 0.8517\n",
      "Epoch 94/200\n",
      "244/244 - 4s - loss: 0.7240 - accuracy: 0.8590\n",
      "Epoch 95/200\n",
      "244/244 - 4s - loss: 0.7059 - accuracy: 0.8603\n",
      "Epoch 96/200\n",
      "244/244 - 5s - loss: 0.6905 - accuracy: 0.8624\n",
      "Epoch 97/200\n",
      "244/244 - 5s - loss: 0.6761 - accuracy: 0.8633\n",
      "Epoch 98/200\n",
      "244/244 - 4s - loss: 0.6618 - accuracy: 0.8686\n",
      "Epoch 99/200\n",
      "244/244 - 4s - loss: 0.6464 - accuracy: 0.8704\n",
      "Epoch 100/200\n",
      "244/244 - 4s - loss: 0.6315 - accuracy: 0.8766\n",
      "Epoch 101/200\n",
      "244/244 - 4s - loss: 0.6186 - accuracy: 0.8781\n",
      "Epoch 102/200\n",
      "244/244 - 4s - loss: 0.6065 - accuracy: 0.8793\n",
      "Epoch 103/200\n",
      "244/244 - 4s - loss: 0.5941 - accuracy: 0.8821\n",
      "Epoch 104/200\n",
      "244/244 - 4s - loss: 0.5808 - accuracy: 0.8818\n",
      "Epoch 105/200\n",
      "244/244 - 4s - loss: 0.5700 - accuracy: 0.8863\n",
      "Epoch 106/200\n",
      "244/244 - 4s - loss: 0.5583 - accuracy: 0.8895\n",
      "Epoch 107/200\n",
      "244/244 - 4s - loss: 0.5467 - accuracy: 0.8882\n",
      "Epoch 108/200\n",
      "244/244 - 4s - loss: 0.5354 - accuracy: 0.8922\n",
      "Epoch 109/200\n",
      "244/244 - 4s - loss: 0.5246 - accuracy: 0.8940\n",
      "Epoch 110/200\n",
      "244/244 - 4s - loss: 0.5139 - accuracy: 0.8949\n",
      "Epoch 111/200\n",
      "244/244 - 4s - loss: 0.5037 - accuracy: 0.8976\n",
      "Epoch 112/200\n",
      "244/244 - 4s - loss: 0.4954 - accuracy: 0.8970\n",
      "Epoch 113/200\n",
      "244/244 - 4s - loss: 0.4871 - accuracy: 0.8991\n",
      "Epoch 114/200\n",
      "244/244 - 4s - loss: 0.4787 - accuracy: 0.9023\n",
      "Epoch 115/200\n",
      "244/244 - 4s - loss: 0.4692 - accuracy: 0.9018\n",
      "Epoch 116/200\n",
      "244/244 - 4s - loss: 0.4599 - accuracy: 0.9031\n",
      "Epoch 117/200\n",
      "244/244 - 4s - loss: 0.4530 - accuracy: 0.9040\n",
      "Epoch 118/200\n",
      "244/244 - 4s - loss: 0.4450 - accuracy: 0.9066\n",
      "Epoch 119/200\n",
      "244/244 - 4s - loss: 0.4365 - accuracy: 0.9059\n",
      "Epoch 120/200\n",
      "244/244 - 4s - loss: 0.4383 - accuracy: 0.9068\n",
      "Epoch 121/200\n",
      "244/244 - 4s - loss: 0.4296 - accuracy: 0.9086\n",
      "Epoch 122/200\n",
      "244/244 - 4s - loss: 0.4142 - accuracy: 0.9105\n",
      "Epoch 123/200\n",
      "244/244 - 4s - loss: 0.4086 - accuracy: 0.9097\n",
      "Epoch 124/200\n",
      "244/244 - 4s - loss: 0.4008 - accuracy: 0.9109\n",
      "Epoch 125/200\n",
      "244/244 - 4s - loss: 0.3953 - accuracy: 0.9131\n",
      "Epoch 126/200\n",
      "244/244 - 4s - loss: 0.3898 - accuracy: 0.9114\n",
      "Epoch 127/200\n",
      "244/244 - 4s - loss: 0.3884 - accuracy: 0.9125\n",
      "Epoch 128/200\n",
      "244/244 - 4s - loss: 0.3809 - accuracy: 0.9138\n",
      "Epoch 129/200\n",
      "244/244 - 4s - loss: 0.3769 - accuracy: 0.9125\n",
      "Epoch 130/200\n",
      "244/244 - 4s - loss: 0.3703 - accuracy: 0.9141\n",
      "Epoch 131/200\n",
      "244/244 - 4s - loss: 0.3684 - accuracy: 0.9122\n",
      "Epoch 132/200\n",
      "244/244 - 4s - loss: 0.4123 - accuracy: 0.9036\n",
      "Epoch 133/200\n",
      "244/244 - 4s - loss: 0.3872 - accuracy: 0.9118\n",
      "Epoch 134/200\n",
      "244/244 - 4s - loss: 0.3576 - accuracy: 0.9146\n",
      "Epoch 135/200\n",
      "244/244 - 4s - loss: 0.3493 - accuracy: 0.9155\n",
      "Epoch 136/200\n",
      "244/244 - 4s - loss: 0.3437 - accuracy: 0.9159\n",
      "Epoch 137/200\n"
     ]
    },
    {
     "name": "stdout",
     "output_type": "stream",
     "text": [
      "244/244 - 4s - loss: 0.3396 - accuracy: 0.9166\n",
      "Epoch 138/200\n",
      "244/244 - 4s - loss: 0.3362 - accuracy: 0.9154\n",
      "Epoch 139/200\n",
      "244/244 - 4s - loss: 0.3342 - accuracy: 0.9155\n",
      "Epoch 140/200\n",
      "244/244 - 4s - loss: 0.3315 - accuracy: 0.9154\n",
      "Epoch 141/200\n",
      "244/244 - 4s - loss: 0.3300 - accuracy: 0.9164\n",
      "Epoch 142/200\n",
      "244/244 - 4s - loss: 0.3261 - accuracy: 0.9162\n",
      "Epoch 143/200\n",
      "244/244 - 4s - loss: 0.3239 - accuracy: 0.9161\n",
      "Epoch 144/200\n",
      "244/244 - 4s - loss: 0.3215 - accuracy: 0.9162\n",
      "Epoch 145/200\n",
      "244/244 - 4s - loss: 0.3188 - accuracy: 0.9171\n",
      "Epoch 146/200\n",
      "244/244 - 4s - loss: 0.3152 - accuracy: 0.9171\n",
      "Epoch 147/200\n",
      "244/244 - 4s - loss: 0.3128 - accuracy: 0.9186\n",
      "Epoch 148/200\n",
      "244/244 - 4s - loss: 0.3116 - accuracy: 0.9162\n",
      "Epoch 149/200\n",
      "244/244 - 4s - loss: 0.3134 - accuracy: 0.9154\n",
      "Epoch 150/200\n",
      "244/244 - 4s - loss: 0.3471 - accuracy: 0.9109\n",
      "Epoch 151/200\n",
      "244/244 - 4s - loss: 0.3136 - accuracy: 0.9148\n",
      "Epoch 152/200\n",
      "244/244 - 4s - loss: 0.3058 - accuracy: 0.9175\n",
      "Epoch 153/200\n",
      "244/244 - 4s - loss: 0.3011 - accuracy: 0.9182\n",
      "Epoch 154/200\n",
      "244/244 - 4s - loss: 0.2983 - accuracy: 0.9163\n",
      "Epoch 155/200\n",
      "244/244 - 4s - loss: 0.2958 - accuracy: 0.9163\n",
      "Epoch 156/200\n",
      "244/244 - 4s - loss: 0.2950 - accuracy: 0.9173\n",
      "Epoch 157/200\n",
      "244/244 - 4s - loss: 0.2942 - accuracy: 0.9163\n",
      "Epoch 158/200\n",
      "244/244 - 4s - loss: 0.2941 - accuracy: 0.9168\n",
      "Epoch 159/200\n",
      "244/244 - 4s - loss: 0.2925 - accuracy: 0.9175\n",
      "Epoch 160/200\n",
      "244/244 - 4s - loss: 0.2938 - accuracy: 0.9150\n",
      "Epoch 161/200\n",
      "244/244 - 4s - loss: 0.2898 - accuracy: 0.9176\n",
      "Epoch 162/200\n",
      "244/244 - 4s - loss: 0.2883 - accuracy: 0.9158\n",
      "Epoch 163/200\n",
      "244/244 - 4s - loss: 0.2863 - accuracy: 0.9170\n",
      "Epoch 164/200\n",
      "244/244 - 4s - loss: 0.2859 - accuracy: 0.9163\n",
      "Epoch 165/200\n",
      "244/244 - 4s - loss: 0.2842 - accuracy: 0.9164\n",
      "Epoch 166/200\n",
      "244/244 - 4s - loss: 0.2852 - accuracy: 0.9170\n",
      "Epoch 167/200\n",
      "244/244 - 5s - loss: 0.3013 - accuracy: 0.9153\n",
      "Epoch 168/200\n",
      "244/244 - 4s - loss: 0.3183 - accuracy: 0.9108\n",
      "Epoch 169/200\n",
      "244/244 - 4s - loss: 0.2964 - accuracy: 0.9152\n",
      "Epoch 170/200\n",
      "244/244 - 4s - loss: 0.2819 - accuracy: 0.9167\n",
      "Epoch 171/200\n",
      "244/244 - 4s - loss: 0.2781 - accuracy: 0.9161\n",
      "Epoch 172/200\n",
      "244/244 - 4s - loss: 0.2764 - accuracy: 0.9164\n",
      "Epoch 173/200\n",
      "244/244 - 4s - loss: 0.2755 - accuracy: 0.9172\n",
      "Epoch 174/200\n",
      "244/244 - 4s - loss: 0.2759 - accuracy: 0.9175\n",
      "Epoch 175/200\n",
      "244/244 - 4s - loss: 0.2746 - accuracy: 0.9172\n",
      "Epoch 176/200\n",
      "244/244 - 4s - loss: 0.2737 - accuracy: 0.9170\n",
      "Epoch 177/200\n",
      "244/244 - 4s - loss: 0.2727 - accuracy: 0.9179\n",
      "Epoch 178/200\n",
      "244/244 - 4s - loss: 0.2733 - accuracy: 0.9159\n",
      "Epoch 179/200\n",
      "244/244 - 4s - loss: 0.2724 - accuracy: 0.9168\n",
      "Epoch 180/200\n",
      "244/244 - 4s - loss: 0.2719 - accuracy: 0.9181\n",
      "Epoch 181/200\n",
      "244/244 - 4s - loss: 0.2712 - accuracy: 0.9149\n",
      "Epoch 182/200\n",
      "244/244 - 4s - loss: 0.2717 - accuracy: 0.9170\n",
      "Epoch 183/200\n",
      "244/244 - 4s - loss: 0.2717 - accuracy: 0.9168\n",
      "Epoch 184/200\n",
      "244/244 - 4s - loss: 0.2690 - accuracy: 0.9167\n",
      "Epoch 185/200\n",
      "244/244 - 4s - loss: 0.2717 - accuracy: 0.9158\n",
      "Epoch 186/200\n",
      "244/244 - 4s - loss: 0.2875 - accuracy: 0.9123\n",
      "Epoch 187/200\n",
      "244/244 - 4s - loss: 0.3039 - accuracy: 0.9107\n",
      "Epoch 188/200\n",
      "244/244 - 4s - loss: 0.2730 - accuracy: 0.9149\n",
      "Epoch 189/200\n",
      "244/244 - 4s - loss: 0.2680 - accuracy: 0.9158\n",
      "Epoch 190/200\n",
      "244/244 - 4s - loss: 0.2661 - accuracy: 0.9150\n",
      "Epoch 191/200\n",
      "244/244 - 4s - loss: 0.2665 - accuracy: 0.9158\n",
      "Epoch 192/200\n",
      "244/244 - 4s - loss: 0.2645 - accuracy: 0.9167\n",
      "Epoch 193/200\n",
      "244/244 - 4s - loss: 0.2657 - accuracy: 0.9150\n",
      "Epoch 194/200\n",
      "244/244 - 4s - loss: 0.2643 - accuracy: 0.9164\n",
      "Epoch 195/200\n",
      "244/244 - 4s - loss: 0.2650 - accuracy: 0.9167\n",
      "Epoch 196/200\n",
      "244/244 - 4s - loss: 0.2646 - accuracy: 0.9162\n",
      "Epoch 197/200\n",
      "244/244 - 4s - loss: 0.2641 - accuracy: 0.9162\n",
      "Epoch 198/200\n",
      "244/244 - 4s - loss: 0.2646 - accuracy: 0.9158\n",
      "Epoch 199/200\n",
      "244/244 - 4s - loss: 0.2638 - accuracy: 0.9166\n",
      "Epoch 200/200\n",
      "244/244 - 4s - loss: 0.2643 - accuracy: 0.9162\n"
     ]
    },
    {
     "data": {
      "text/plain": [
       "<tensorflow.python.keras.callbacks.History at 0x7f20541c8370>"
      ]
     },
     "execution_count": 37,
     "metadata": {},
     "output_type": "execute_result"
    }
   ],
   "source": [
    "from tensorflow.keras.models import Sequential\n",
    "from tensorflow.keras.layers import Embedding, Dense, LSTM\n",
    "\n",
    "model = Sequential()\n",
    "model.add(Embedding(vocab_size, 10, input_length=max_len-1))\n",
    "model.add(LSTM(128))\n",
    "model.add(Dense(vocab_size,activation='softmax'))\n",
    "model.compile(loss='categorical_crossentropy', optimizer='adam', metrics=['accuracy'])\n",
    "model.fit(X,y,epochs=200,verbose=2)"
   ]
  },
  {
   "cell_type": "code",
   "execution_count": 38,
   "metadata": {},
   "outputs": [],
   "source": [
    "def sentence_generation(model, t, current_word, n ) :\n",
    "    init_word = current_word\n",
    "    sentence = ''\n",
    "    for _ in range(n) :\n",
    "        encoded = t.texts_to_sequences([current_word])[0]\n",
    "        encoded = pad_sequences([encoded], maxlen=5, padding='pre')\n",
    "        result = model.predict_classes(encoded, verbose=0)\n",
    "        \n",
    "        for word, index in t.word_index.items() :\n",
    "            if index == result :\n",
    "                break\n",
    "        current_word = current_word + ' ' + word\n",
    "        sentence = sentence + ' ' + word\n",
    "    sentence = init_word + sentence\n",
    "        \n",
    "    return sentence"
   ]
  },
  {
   "cell_type": "code",
   "execution_count": 49,
   "metadata": {},
   "outputs": [
    {
     "name": "stdout",
     "output_type": "stream",
     "text": [
      "try the president when a accomplished landlord gay homes of new\n"
     ]
    }
   ],
   "source": [
    "print(sentence_generation(model,t,'try',10))"
   ]
  },
  {
   "cell_type": "code",
   "execution_count": 50,
   "metadata": {},
   "outputs": [
    {
     "name": "stdout",
     "output_type": "stream",
     "text": [
      "world recap and change at classics dept over north accomplished of\n"
     ]
    }
   ],
   "source": [
    "print(sentence_generation(model,t,'world',10))"
   ]
  }
 ],
 "metadata": {
  "kernelspec": {
   "display_name": "Python 3",
   "language": "python",
   "name": "python3"
  },
  "language_info": {
   "codemirror_mode": {
    "name": "ipython",
    "version": 3
   },
   "file_extension": ".py",
   "mimetype": "text/x-python",
   "name": "python",
   "nbconvert_exporter": "python",
   "pygments_lexer": "ipython3",
   "version": "3.8.3"
  }
 },
 "nbformat": 4,
 "nbformat_minor": 4
}
