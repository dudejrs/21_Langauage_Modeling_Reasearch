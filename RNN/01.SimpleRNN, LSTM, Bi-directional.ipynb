{
 "cells": [
  {
   "cell_type": "code",
   "execution_count": 1,
   "metadata": {},
   "outputs": [],
   "source": [
    "import numpy as np\n",
    "import tensorflow as tf\n",
    "from tensorflow.keras.layers import SimpleRNN, LSTM, Bidirectional"
   ]
  },
  {
   "cell_type": "code",
   "execution_count": 10,
   "metadata": {},
   "outputs": [
    {
     "name": "stdout",
     "output_type": "stream",
     "text": [
      "(1, 4, 5)\n"
     ]
    }
   ],
   "source": [
    "train_X = [[\n",
    "    [0.1, 4.2, 1.5, 1.1, 2.8],\n",
    "    [1.0, 3.1, 2.5, 0.7, 1.1],\n",
    "    [0.3, 2.1, 1.5, 2.1, 0.1],\n",
    "    [2.2, 1.4, 0.5, 0.9, 1.1]\n",
    "]]\n",
    "train_X = np.array(train_X, dtype=np.float32)\n",
    "# print(np.shape(train_X))\n",
    "print(train_X.shape)"
   ]
  },
  {
   "cell_type": "markdown",
   "metadata": {},
   "source": [
    "# Simple RNN"
   ]
  },
  {
   "cell_type": "code",
   "execution_count": 24,
   "metadata": {},
   "outputs": [
    {
     "name": "stdout",
     "output_type": "stream",
     "text": [
      "hidden state : [[[-0.9832972   0.20854129 -0.9622653 ]\n",
      "  [-0.5839553  -0.9145554  -0.1803549 ]\n",
      "  [-0.76298046 -0.42132413 -0.9220408 ]\n",
      "  [-0.98496413 -0.99511445 -0.9254847 ]]], shape : (1, 4, 3)\n",
      "\n",
      "last hidden state : [[-0.98496413 -0.99511445 -0.9254847 ]], shape : (1, 3)\n",
      "\n"
     ]
    }
   ],
   "source": [
    "rnn = SimpleRNN(3,return_sequences = True, return_state = True)\n",
    "hidden_state, last_state = rnn(train_X)\n",
    "\n",
    "print('hidden state : {}, shape : {}\\n'.format(hidden_state, hidden_state.shape))\n",
    "print('last hidden state : {}, shape : {}\\n'.format(last_state, last_state.shape))\n"
   ]
  },
  {
   "cell_type": "markdown",
   "metadata": {},
   "source": [
    "# LSTM"
   ]
  },
  {
   "cell_type": "code",
   "execution_count": 26,
   "metadata": {},
   "outputs": [
    {
     "name": "stdout",
     "output_type": "stream",
     "text": [
      "hidden state : [[[-0.00410205 -0.0448423   0.19561355]\n",
      "  [-0.01596891 -0.07216485  0.5621325 ]\n",
      "  [-0.05578514 -0.12985231  0.460378  ]\n",
      "  [-0.13154697 -0.06703199  0.39312464]]], shape : (1, 4, 3)\n",
      "\n",
      "last hidden state : [[-0.98496413 -0.99511445 -0.9254847 ]], shape : (1, 3)\n",
      "\n",
      "last cell state : [[-0.80375516 -0.268283    2.0221992 ]], shape : (1, 3)\n",
      "\n"
     ]
    }
   ],
   "source": [
    "lstm = LSTM(3,return_sequences = True, return_state = True)\n",
    "hidden_state, last_hidden_state, last_cell_state = lstm(train_X)\n",
    "\n",
    "print('hidden state : {}, shape : {}\\n'.format(hidden_state, hidden_state.shape))\n",
    "print('last hidden state : {}, shape : {}\\n'.format(last_state, last_state.shape))\n",
    "print('last cell state : {}, shape : {}\\n'.format(last_cell_state, last_cell_state.shape))\n"
   ]
  },
  {
   "cell_type": "markdown",
   "metadata": {},
   "source": [
    "# Bidirectional LSTM"
   ]
  },
  {
   "cell_type": "code",
   "execution_count": 30,
   "metadata": {},
   "outputs": [],
   "source": [
    "k_init = tf.keras.initializers.Constant(value=0.1)\n",
    "b_init = tf.keras.initializers.Constant(value=0)\n",
    "r_init = tf.keras.initializers.Constant(value=0.1)"
   ]
  },
  {
   "cell_type": "code",
   "execution_count": 39,
   "metadata": {},
   "outputs": [
    {
     "name": "stdout",
     "output_type": "stream",
     "text": [
      "hidden state : [[-0.10009428 -0.21149424  0.17957386 -0.0047524  -0.45616934 -0.0389562 ]], shape : (1, 4, 3)\n",
      "\n",
      "foward state : [[-0.10009428 -0.21149424  0.17957386]], shape : (1, 4, 3)\n",
      "\n",
      "backward state : [[-0.0047524  -0.45616934 -0.0389562 ]], shape : (1, 4, 3)\n",
      "\n",
      "foward state : [[-1.0290873  -1.451037    0.23582846]], shape : (1, 4, 3)\n",
      "\n",
      "backward state : [[-0.03199977 -1.2557712  -0.33501065]], shape : (1, 4, 3)\n",
      "\n"
     ]
    }
   ],
   "source": [
    "bilstm = Bidirectional(LSTM(3,return_sequences=False,\\\n",
    "                         return_state = True,\\\n",
    "                        bias_initializer = b_init,\\\n",
    "                        recurrent_initializer=r_init))\n",
    "hidden_states, forward_h, forward_c, backward_h, backward_c = bilstm(train_X)\n",
    "print('hidden state : {}, shape : {}\\n'.format(hidden_states, hidden_state.shape))\n",
    "\n",
    "print('foward state : {}, shape : {}\\n'.format(forward_h, hidden_state.shape))\n",
    "print('backward state : {}, shape : {}\\n'.format(backward_h, hidden_state.shape))\n",
    "\n",
    "print('foward state : {}, shape : {}\\n'.format(forward_c, hidden_state.shape))\n",
    "print('backward state : {}, shape : {}\\n'.format(backward_c, hidden_state.shape))\n"
   ]
  },
  {
   "cell_type": "code",
   "execution_count": 40,
   "metadata": {},
   "outputs": [
    {
     "name": "stdout",
     "output_type": "stream",
     "text": [
      "hidden state : [[[-0.18485835  0.11145597 -0.04052968  0.48256007  0.01597929\n",
      "   -0.6401246 ]\n",
      "  [-0.04677725 -0.14995725 -0.07835873  0.4538554   0.0215591\n",
      "   -0.63838285]\n",
      "  [-0.16335599 -0.14277561 -0.32572478  0.42411008  0.02753893\n",
      "   -0.47895408]\n",
      "  [-0.23449121  0.4636655  -0.13165762  0.31614307  0.04366803\n",
      "    0.04542973]]], shape : (1, 4, 3)\n",
      "\n",
      "foward state : [[-0.23449121  0.4636655  -0.13165762]], shape : (1, 4, 3)\n",
      "\n",
      "backward state : [[ 0.48256007  0.01597929 -0.6401246 ]], shape : (1, 4, 3)\n",
      "\n",
      "foward state : [[-0.32241893  0.5670044  -0.6864971 ]], shape : (1, 4, 3)\n",
      "\n",
      "backward state : [[ 0.7599268   0.51883084 -0.9874033 ]], shape : (1, 4, 3)\n",
      "\n"
     ]
    }
   ],
   "source": [
    "bilstm = Bidirectional(LSTM(3,return_sequences=True,\\\n",
    "                         return_state = True,\\\n",
    "                        bias_initializer = b_init,\\\n",
    "                        recurrent_initializer=r_init))\n",
    "hidden_states, forward_h, forward_c, backward_h, backward_c = bilstm(train_X)\n",
    "print('hidden state : {}, shape : {}\\n'.format(hidden_states, hidden_state.shape))\n",
    "\n",
    "print('foward state : {}, shape : {}\\n'.format(forward_h, hidden_state.shape))\n",
    "print('backward state : {}, shape : {}\\n'.format(backward_h, hidden_state.shape))\n",
    "\n",
    "print('foward state : {}, shape : {}\\n'.format(forward_c, hidden_state.shape))\n",
    "print('backward state : {}, shape : {}\\n'.format(backward_c, hidden_state.shape))\n"
   ]
  }
 ],
 "metadata": {
  "kernelspec": {
   "display_name": "Python 3",
   "language": "python",
   "name": "python3"
  },
  "language_info": {
   "codemirror_mode": {
    "name": "ipython",
    "version": 3
   },
   "file_extension": ".py",
   "mimetype": "text/x-python",
   "name": "python",
   "nbconvert_exporter": "python",
   "pygments_lexer": "ipython3",
   "version": "3.8.3"
  }
 },
 "nbformat": 4,
 "nbformat_minor": 4
}
